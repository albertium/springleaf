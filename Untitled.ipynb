{
 "cells": [
  {
   "cell_type": "code",
   "execution_count": 1,
   "metadata": {
    "collapsed": false
   },
   "outputs": [],
   "source": [
    "import pandas as pd\n",
    "import xgboost as xgb\n",
    "import numpy as np"
   ]
  },
  {
   "cell_type": "code",
   "execution_count": 2,
   "metadata": {
    "collapsed": false,
    "scrolled": true
   },
   "outputs": [
    {
     "name": "stderr",
     "output_type": "stream",
     "text": [
      "/home/albertium/anaconda3/lib/python3.4/site-packages/pandas/io/parsers.py:1170: DtypeWarning: Columns (8,9,10,11,12,43,157,196,214,225,228,229,231,235,238) have mixed types. Specify dtype option on import or set low_memory=False.\n",
      "  data = self._reader.read(nrows)\n"
     ]
    }
   ],
   "source": [
    "raw = pd.read_csv('data/train.csv')"
   ]
  },
  {
   "cell_type": "code",
   "execution_count": 3,
   "metadata": {
    "collapsed": false
   },
   "outputs": [
    {
     "name": "stdout",
     "output_type": "stream",
     "text": [
      "CPU times: user 9.12 s, sys: 0 ns, total: 9.12 s\n",
      "Wall time: 8.9 s\n"
     ]
    }
   ],
   "source": [
    "%%time\n",
    "time_cols = ['VAR_0073', 'VAR_0075', 'VAR_0156', 'VAR_0157', 'VAR_0158', 'VAR_0159', 'VAR_0166', 'VAR_0167',\n",
    "             'VAR_0168', 'VAR_0169', 'VAR_0176', 'VAR_0177', 'VAR_0178', 'VAR_0179', 'VAR_0204', 'VAR_0217']\n",
    "\n",
    "data = raw.copy()\n",
    "\n",
    "# encode categorical data\n",
    "for col in set(data.columns[data.dtypes=='object']) - set(time_cols):\n",
    "    data[col] = data[col].map({v: i for i, v in enumerate(data[col].unique())})\n",
    " \n",
    "#\n",
    "# deal with time data\n",
    "for col in time_cols:\n",
    "    data[col+'_year'] = pd.to_datetime(data[col], format='%d%b%y:%H:%M:%S').dt.year\n",
    "    data[col+'_month'] = pd.to_datetime(data[col], format='%d%b%y:%H:%M:%S').dt.month\n",
    "    data[col+'_day'] = pd.to_datetime(data[col], format='%d%b%y:%H:%M:%S').dt.day\n",
    "    del data[col]"
   ]
  },
  {
   "cell_type": "code",
   "execution_count": 4,
   "metadata": {
    "collapsed": false
   },
   "outputs": [],
   "source": [
    "train_x = xgb.DMatrix(data.drop(['ID', 'target'], axis=1).values, label=data.target, missing=np.nan)"
   ]
  },
  {
   "cell_type": "code",
   "execution_count": 9,
   "metadata": {
    "collapsed": false
   },
   "outputs": [
    {
     "ename": "XGBoostError",
     "evalue": "b'std::bad_alloc'",
     "output_type": "error",
     "traceback": [
      "\u001b[1;31m---------------------------------------------------------------------------\u001b[0m",
      "\u001b[1;31mXGBoostError\u001b[0m                              Traceback (most recent call last)",
      "\u001b[1;32m<ipython-input-9-a554a1646398>\u001b[0m in \u001b[0;36m<module>\u001b[1;34m()\u001b[0m\n\u001b[0;32m      8\u001b[0m         'verbose': 2}\n\u001b[0;32m      9\u001b[0m \u001b[1;33m\u001b[0m\u001b[0m\n\u001b[1;32m---> 10\u001b[1;33m \u001b[0mmodel\u001b[0m \u001b[1;33m=\u001b[0m \u001b[0mxgb\u001b[0m\u001b[1;33m.\u001b[0m\u001b[0mcv\u001b[0m\u001b[1;33m(\u001b[0m\u001b[0mparams\u001b[0m\u001b[1;33m,\u001b[0m \u001b[0mtrain_x\u001b[0m\u001b[1;33m,\u001b[0m \u001b[1;36m100\u001b[0m\u001b[1;33m)\u001b[0m\u001b[1;33m\u001b[0m\u001b[0m\n\u001b[0m",
      "\u001b[1;32m/home/albertium/anaconda3/lib/python3.4/site-packages/xgboost-0.4-py3.4.egg/xgboost/training.py\u001b[0m in \u001b[0;36mcv\u001b[1;34m(params, dtrain, num_boost_round, nfold, metrics, obj, feval, fpreproc, show_stdv, seed)\u001b[0m\n\u001b[0;32m    242\u001b[0m     \"\"\"\n\u001b[0;32m    243\u001b[0m     \u001b[0mresults\u001b[0m \u001b[1;33m=\u001b[0m \u001b[1;33m[\u001b[0m\u001b[1;33m]\u001b[0m\u001b[1;33m\u001b[0m\u001b[0m\n\u001b[1;32m--> 244\u001b[1;33m     \u001b[0mcvfolds\u001b[0m \u001b[1;33m=\u001b[0m \u001b[0mmknfold\u001b[0m\u001b[1;33m(\u001b[0m\u001b[0mdtrain\u001b[0m\u001b[1;33m,\u001b[0m \u001b[0mnfold\u001b[0m\u001b[1;33m,\u001b[0m \u001b[0mparams\u001b[0m\u001b[1;33m,\u001b[0m \u001b[0mseed\u001b[0m\u001b[1;33m,\u001b[0m \u001b[0mmetrics\u001b[0m\u001b[1;33m,\u001b[0m \u001b[0mfpreproc\u001b[0m\u001b[1;33m)\u001b[0m\u001b[1;33m\u001b[0m\u001b[0m\n\u001b[0m\u001b[0;32m    245\u001b[0m     \u001b[1;32mfor\u001b[0m \u001b[0mi\u001b[0m \u001b[1;32min\u001b[0m \u001b[0mrange\u001b[0m\u001b[1;33m(\u001b[0m\u001b[0mnum_boost_round\u001b[0m\u001b[1;33m)\u001b[0m\u001b[1;33m:\u001b[0m\u001b[1;33m\u001b[0m\u001b[0m\n\u001b[0;32m    246\u001b[0m         \u001b[1;32mfor\u001b[0m \u001b[0mfold\u001b[0m \u001b[1;32min\u001b[0m \u001b[0mcvfolds\u001b[0m\u001b[1;33m:\u001b[0m\u001b[1;33m\u001b[0m\u001b[0m\n",
      "\u001b[1;32m/home/albertium/anaconda3/lib/python3.4/site-packages/xgboost-0.4-py3.4.egg/xgboost/training.py\u001b[0m in \u001b[0;36mmknfold\u001b[1;34m(dall, nfold, param, seed, evals, fpreproc)\u001b[0m\n\u001b[0;32m    168\u001b[0m     \u001b[0mret\u001b[0m \u001b[1;33m=\u001b[0m \u001b[1;33m[\u001b[0m\u001b[1;33m]\u001b[0m\u001b[1;33m\u001b[0m\u001b[0m\n\u001b[0;32m    169\u001b[0m     \u001b[1;32mfor\u001b[0m \u001b[0mk\u001b[0m \u001b[1;32min\u001b[0m \u001b[0mrange\u001b[0m\u001b[1;33m(\u001b[0m\u001b[0mnfold\u001b[0m\u001b[1;33m)\u001b[0m\u001b[1;33m:\u001b[0m\u001b[1;33m\u001b[0m\u001b[0m\n\u001b[1;32m--> 170\u001b[1;33m         \u001b[0mdtrain\u001b[0m \u001b[1;33m=\u001b[0m \u001b[0mdall\u001b[0m\u001b[1;33m.\u001b[0m\u001b[0mslice\u001b[0m\u001b[1;33m(\u001b[0m\u001b[0mnp\u001b[0m\u001b[1;33m.\u001b[0m\u001b[0mconcatenate\u001b[0m\u001b[1;33m(\u001b[0m\u001b[1;33m[\u001b[0m\u001b[0midset\u001b[0m\u001b[1;33m[\u001b[0m\u001b[0mi\u001b[0m\u001b[1;33m]\u001b[0m \u001b[1;32mfor\u001b[0m \u001b[0mi\u001b[0m \u001b[1;32min\u001b[0m \u001b[0mrange\u001b[0m\u001b[1;33m(\u001b[0m\u001b[0mnfold\u001b[0m\u001b[1;33m)\u001b[0m \u001b[1;32mif\u001b[0m \u001b[0mk\u001b[0m \u001b[1;33m!=\u001b[0m \u001b[0mi\u001b[0m\u001b[1;33m]\u001b[0m\u001b[1;33m)\u001b[0m\u001b[1;33m)\u001b[0m\u001b[1;33m\u001b[0m\u001b[0m\n\u001b[0m\u001b[0;32m    171\u001b[0m         \u001b[0mdtest\u001b[0m \u001b[1;33m=\u001b[0m \u001b[0mdall\u001b[0m\u001b[1;33m.\u001b[0m\u001b[0mslice\u001b[0m\u001b[1;33m(\u001b[0m\u001b[0midset\u001b[0m\u001b[1;33m[\u001b[0m\u001b[0mk\u001b[0m\u001b[1;33m]\u001b[0m\u001b[1;33m)\u001b[0m\u001b[1;33m\u001b[0m\u001b[0m\n\u001b[0;32m    172\u001b[0m         \u001b[1;31m# run preprocessing on the data set if needed\u001b[0m\u001b[1;33m\u001b[0m\u001b[1;33m\u001b[0m\u001b[0m\n",
      "\u001b[1;32m/home/albertium/anaconda3/lib/python3.4/site-packages/xgboost-0.4-py3.4.egg/xgboost/core.py\u001b[0m in \u001b[0;36mslice\u001b[1;34m(self, rindex)\u001b[0m\n\u001b[0;32m    459\u001b[0m                                                \u001b[0mc_array\u001b[0m\u001b[1;33m(\u001b[0m\u001b[0mctypes\u001b[0m\u001b[1;33m.\u001b[0m\u001b[0mc_int\u001b[0m\u001b[1;33m,\u001b[0m \u001b[0mrindex\u001b[0m\u001b[1;33m)\u001b[0m\u001b[1;33m,\u001b[0m\u001b[1;33m\u001b[0m\u001b[0m\n\u001b[0;32m    460\u001b[0m                                                \u001b[0mlen\u001b[0m\u001b[1;33m(\u001b[0m\u001b[0mrindex\u001b[0m\u001b[1;33m)\u001b[0m\u001b[1;33m,\u001b[0m\u001b[1;33m\u001b[0m\u001b[0m\n\u001b[1;32m--> 461\u001b[1;33m                                                ctypes.byref(res.handle)))\n\u001b[0m\u001b[0;32m    462\u001b[0m         \u001b[1;32mreturn\u001b[0m \u001b[0mres\u001b[0m\u001b[1;33m\u001b[0m\u001b[0m\n\u001b[0;32m    463\u001b[0m \u001b[1;33m\u001b[0m\u001b[0m\n",
      "\u001b[1;32m/home/albertium/anaconda3/lib/python3.4/site-packages/xgboost-0.4-py3.4.egg/xgboost/core.py\u001b[0m in \u001b[0;36m_check_call\u001b[1;34m(ret)\u001b[0m\n\u001b[0;32m    104\u001b[0m     \"\"\"\n\u001b[0;32m    105\u001b[0m     \u001b[1;32mif\u001b[0m \u001b[0mret\u001b[0m \u001b[1;33m!=\u001b[0m \u001b[1;36m0\u001b[0m\u001b[1;33m:\u001b[0m\u001b[1;33m\u001b[0m\u001b[0m\n\u001b[1;32m--> 106\u001b[1;33m         \u001b[1;32mraise\u001b[0m \u001b[0mXGBoostError\u001b[0m\u001b[1;33m(\u001b[0m\u001b[0m_LIB\u001b[0m\u001b[1;33m.\u001b[0m\u001b[0mXGBGetLastError\u001b[0m\u001b[1;33m(\u001b[0m\u001b[1;33m)\u001b[0m\u001b[1;33m)\u001b[0m\u001b[1;33m\u001b[0m\u001b[0m\n\u001b[0m\u001b[0;32m    107\u001b[0m \u001b[1;33m\u001b[0m\u001b[0m\n\u001b[0;32m    108\u001b[0m \u001b[1;33m\u001b[0m\u001b[0m\n",
      "\u001b[1;31mXGBoostError\u001b[0m: b'std::bad_alloc'"
     ]
    }
   ],
   "source": [
    "params={'objective': 'binary:logistic',\n",
    "        'eta': 0.01,\n",
    "        'max_depth': 3,\n",
    "        'min_child_weight': 30,\n",
    "        'subsample': .6,\n",
    "        'colsample_bytree': .6,\n",
    "        'eval_metric': 'auc',\n",
    "        'verbose': 2}\n",
    "\n",
    "model = xgb.cv(params, train_x, 100)"
   ]
  },
  {
   "cell_type": "code",
   "execution_count": 103,
   "metadata": {
    "collapsed": false
   },
   "outputs": [
    {
     "name": "stderr",
     "output_type": "stream",
     "text": [
      "[0]\tcv-test-auc:0.715248+0.003293\tcv-train-auc:0.733784+0.001414\n",
      "[1]\tcv-test-auc:0.730449+0.002183\tcv-train-auc:0.751287+0.000654\n",
      "[2]\tcv-test-auc:0.737514+0.001746\tcv-train-auc:0.759912+0.001125\n",
      "[3]\tcv-test-auc:0.741136+0.002593\tcv-train-auc:0.764174+0.001155\n",
      "[4]\tcv-test-auc:0.743826+0.001842\tcv-train-auc:0.766748+0.001043\n",
      "[5]\tcv-test-auc:0.745079+0.001759\tcv-train-auc:0.768712+0.001772\n",
      "[6]\tcv-test-auc:0.746497+0.001677\tcv-train-auc:0.770345+0.002336\n",
      "[7]\tcv-test-auc:0.748073+0.001719\tcv-train-auc:0.772068+0.002143\n",
      "[8]\tcv-test-auc:0.748728+0.001437\tcv-train-auc:0.772852+0.001989\n",
      "[9]\tcv-test-auc:0.749253+0.001785\tcv-train-auc:0.773515+0.001916\n",
      "[10]\tcv-test-auc:0.749653+0.001557\tcv-train-auc:0.774089+0.001869\n",
      "[11]\tcv-test-auc:0.749955+0.001523\tcv-train-auc:0.774311+0.001987\n",
      "[12]\tcv-test-auc:0.750186+0.001473\tcv-train-auc:0.774699+0.001836\n",
      "[13]\tcv-test-auc:0.750272+0.001335\tcv-train-auc:0.774777+0.001791\n",
      "[14]\tcv-test-auc:0.750665+0.001259\tcv-train-auc:0.775416+0.001767\n",
      "[15]\tcv-test-auc:0.751214+0.001400\tcv-train-auc:0.776190+0.001630\n",
      "[16]\tcv-test-auc:0.751352+0.001390\tcv-train-auc:0.776584+0.001334\n",
      "[17]\tcv-test-auc:0.751782+0.001574\tcv-train-auc:0.777080+0.001146\n",
      "[18]\tcv-test-auc:0.752125+0.001587\tcv-train-auc:0.777502+0.001284\n",
      "[19]\tcv-test-auc:0.752638+0.001521\tcv-train-auc:0.778130+0.001264\n",
      "[20]\tcv-test-auc:0.752808+0.001544\tcv-train-auc:0.778337+0.001103\n",
      "[21]\tcv-test-auc:0.752962+0.001597\tcv-train-auc:0.778522+0.001019\n",
      "[22]\tcv-test-auc:0.753128+0.001608\tcv-train-auc:0.778812+0.000987\n",
      "[23]\tcv-test-auc:0.753368+0.001684\tcv-train-auc:0.779217+0.001103\n",
      "[24]\tcv-test-auc:0.753601+0.001590\tcv-train-auc:0.779670+0.001285\n",
      "[25]\tcv-test-auc:0.753772+0.001673\tcv-train-auc:0.779993+0.001288\n",
      "[26]\tcv-test-auc:0.753965+0.001720\tcv-train-auc:0.780223+0.001213\n",
      "[27]\tcv-test-auc:0.754142+0.001647\tcv-train-auc:0.780477+0.001279\n",
      "[28]\tcv-test-auc:0.754285+0.001612\tcv-train-auc:0.780609+0.001323\n",
      "[29]\tcv-test-auc:0.754439+0.001626\tcv-train-auc:0.780749+0.001247\n",
      "[30]\tcv-test-auc:0.754600+0.001532\tcv-train-auc:0.781028+0.001255\n",
      "[31]\tcv-test-auc:0.754763+0.001603\tcv-train-auc:0.781283+0.001283\n",
      "[32]\tcv-test-auc:0.754865+0.001709\tcv-train-auc:0.781441+0.001256\n",
      "[33]\tcv-test-auc:0.755026+0.001640\tcv-train-auc:0.781727+0.001310\n",
      "[34]\tcv-test-auc:0.755183+0.001664\tcv-train-auc:0.782057+0.001280\n",
      "[35]\tcv-test-auc:0.755238+0.001688\tcv-train-auc:0.782199+0.001198\n",
      "[36]\tcv-test-auc:0.755295+0.001601\tcv-train-auc:0.782417+0.001279\n",
      "[37]\tcv-test-auc:0.755499+0.001598\tcv-train-auc:0.782739+0.001213\n",
      "[38]\tcv-test-auc:0.755507+0.001610\tcv-train-auc:0.782857+0.001242\n",
      "[39]\tcv-test-auc:0.755652+0.001614\tcv-train-auc:0.783051+0.001234\n",
      "[40]\tcv-test-auc:0.755767+0.001622\tcv-train-auc:0.783327+0.001206\n",
      "[41]\tcv-test-auc:0.755945+0.001689\tcv-train-auc:0.783532+0.001186\n",
      "[42]\tcv-test-auc:0.755997+0.001619\tcv-train-auc:0.783660+0.001180\n",
      "[43]\tcv-test-auc:0.756066+0.001596\tcv-train-auc:0.783746+0.001275\n",
      "[44]\tcv-test-auc:0.756180+0.001590\tcv-train-auc:0.784032+0.001279\n",
      "[45]\tcv-test-auc:0.756285+0.001591\tcv-train-auc:0.784246+0.001229\n",
      "[46]\tcv-test-auc:0.756379+0.001585\tcv-train-auc:0.784411+0.001296\n",
      "[47]\tcv-test-auc:0.756502+0.001603\tcv-train-auc:0.784617+0.001340\n",
      "[48]\tcv-test-auc:0.756603+0.001594\tcv-train-auc:0.784775+0.001393\n",
      "[49]\tcv-test-auc:0.756685+0.001711\tcv-train-auc:0.784978+0.001319\n",
      "[50]\tcv-test-auc:0.756792+0.001690\tcv-train-auc:0.785164+0.001378\n",
      "[51]\tcv-test-auc:0.756813+0.001693\tcv-train-auc:0.785255+0.001406\n",
      "[52]\tcv-test-auc:0.756906+0.001696\tcv-train-auc:0.785434+0.001450\n",
      "[53]\tcv-test-auc:0.756932+0.001668\tcv-train-auc:0.785491+0.001490\n",
      "[54]\tcv-test-auc:0.757035+0.001660\tcv-train-auc:0.785707+0.001491\n",
      "[55]\tcv-test-auc:0.757066+0.001660\tcv-train-auc:0.785832+0.001514\n",
      "[56]\tcv-test-auc:0.757271+0.001709\tcv-train-auc:0.786142+0.001448\n",
      "[57]\tcv-test-auc:0.757324+0.001686\tcv-train-auc:0.786311+0.001396\n",
      "[58]\tcv-test-auc:0.757458+0.001664\tcv-train-auc:0.786526+0.001373\n",
      "[59]\tcv-test-auc:0.757510+0.001635\tcv-train-auc:0.786707+0.001418\n",
      "[60]\tcv-test-auc:0.757610+0.001673\tcv-train-auc:0.786887+0.001332\n",
      "[61]\tcv-test-auc:0.757657+0.001644\tcv-train-auc:0.787057+0.001403\n",
      "[62]\tcv-test-auc:0.757708+0.001609\tcv-train-auc:0.787272+0.001422\n",
      "[63]\tcv-test-auc:0.757828+0.001641\tcv-train-auc:0.787464+0.001326\n",
      "[64]\tcv-test-auc:0.757917+0.001695\tcv-train-auc:0.787638+0.001318\n",
      "[65]\tcv-test-auc:0.758008+0.001571\tcv-train-auc:0.787829+0.001335\n",
      "[66]\tcv-test-auc:0.758123+0.001548\tcv-train-auc:0.788066+0.001330\n",
      "[67]\tcv-test-auc:0.758163+0.001601\tcv-train-auc:0.788257+0.001300\n",
      "[68]\tcv-test-auc:0.758288+0.001585\tcv-train-auc:0.788474+0.001301\n",
      "[69]\tcv-test-auc:0.758308+0.001599\tcv-train-auc:0.788584+0.001329\n",
      "[70]\tcv-test-auc:0.758394+0.001598\tcv-train-auc:0.788814+0.001335\n",
      "[71]\tcv-test-auc:0.758423+0.001590\tcv-train-auc:0.788972+0.001377\n",
      "[72]\tcv-test-auc:0.758498+0.001578\tcv-train-auc:0.789157+0.001415\n",
      "[73]\tcv-test-auc:0.758548+0.001615\tcv-train-auc:0.789312+0.001336\n",
      "[74]\tcv-test-auc:0.758639+0.001635\tcv-train-auc:0.789503+0.001326\n",
      "[75]\tcv-test-auc:0.758770+0.001653\tcv-train-auc:0.789702+0.001283\n",
      "[76]\tcv-test-auc:0.758879+0.001696\tcv-train-auc:0.789909+0.001273\n",
      "[77]\tcv-test-auc:0.758979+0.001720\tcv-train-auc:0.790084+0.001242\n",
      "[78]\tcv-test-auc:0.759021+0.001734\tcv-train-auc:0.790210+0.001288\n",
      "[79]\tcv-test-auc:0.759073+0.001740\tcv-train-auc:0.790370+0.001252\n",
      "[80]\tcv-test-auc:0.759121+0.001802\tcv-train-auc:0.790503+0.001156\n",
      "[81]\tcv-test-auc:0.759187+0.001800\tcv-train-auc:0.790682+0.001192\n",
      "[82]\tcv-test-auc:0.759234+0.001810\tcv-train-auc:0.790811+0.001204\n",
      "[83]\tcv-test-auc:0.759328+0.001837\tcv-train-auc:0.790989+0.001176\n",
      "[84]\tcv-test-auc:0.759406+0.001805\tcv-train-auc:0.791183+0.001200\n",
      "[85]\tcv-test-auc:0.759497+0.001751\tcv-train-auc:0.791374+0.001243\n",
      "[86]\tcv-test-auc:0.759613+0.001732\tcv-train-auc:0.791559+0.001232\n",
      "[87]\tcv-test-auc:0.759697+0.001739\tcv-train-auc:0.791757+0.001228\n",
      "[88]\tcv-test-auc:0.759776+0.001765\tcv-train-auc:0.791902+0.001213\n",
      "[89]\tcv-test-auc:0.759823+0.001792\tcv-train-auc:0.792091+0.001217\n",
      "[90]\tcv-test-auc:0.759855+0.001809\tcv-train-auc:0.792202+0.001240\n",
      "[91]\tcv-test-auc:0.759949+0.001798\tcv-train-auc:0.792383+0.001206\n",
      "[92]\tcv-test-auc:0.760011+0.001841\tcv-train-auc:0.792529+0.001204\n",
      "[93]\tcv-test-auc:0.760126+0.001821\tcv-train-auc:0.792754+0.001193\n",
      "[94]\tcv-test-auc:0.760189+0.001771\tcv-train-auc:0.792916+0.001203\n",
      "[95]\tcv-test-auc:0.760248+0.001810\tcv-train-auc:0.793071+0.001189\n",
      "[96]\tcv-test-auc:0.760321+0.001834\tcv-train-auc:0.793295+0.001217\n",
      "[97]\tcv-test-auc:0.760401+0.001849\tcv-train-auc:0.793474+0.001178\n",
      "[98]\tcv-test-auc:0.760480+0.001830\tcv-train-auc:0.793680+0.001221\n",
      "[99]\tcv-test-auc:0.760547+0.001847\tcv-train-auc:0.793829+0.001215\n"
     ]
    }
   ],
   "source": []
  }
 ],
 "metadata": {
  "kernelspec": {
   "display_name": "Python 3",
   "language": "python",
   "name": "python3"
  },
  "language_info": {
   "codemirror_mode": {
    "name": "ipython",
    "version": 3
   },
   "file_extension": ".py",
   "mimetype": "text/x-python",
   "name": "python",
   "nbconvert_exporter": "python",
   "pygments_lexer": "ipython3",
   "version": "3.4.3"
  }
 },
 "nbformat": 4,
 "nbformat_minor": 0
}
